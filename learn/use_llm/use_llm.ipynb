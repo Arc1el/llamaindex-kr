{
 "cells": [
  {
   "cell_type": "code",
   "execution_count": 2,
   "metadata": {},
   "outputs": [
    {
     "name": "stdout",
     "output_type": "stream",
     "text": [
      " 폴 그레이엄은 미국의 컴퓨터 과학자, 사업가, 작가입니다. 그는 Y Combinator의 공동 설립자이자 회장이며, 에세이와 블로그 게시물을 통해 컴퓨터 과학, 스타트업, 문화에 대한 통찰력을 공유하는 것으로 유명합니다.\n",
      "\n",
      "그레이엄은 1964년에 미국 펜실베이니아주 필라델피아에서 태어났습니다. 그는 하버드 대학교에서 수학과 컴퓨터 과학을 전공했으며, 1985년에 졸업했습니다. 졸업 후 그는 컴퓨터 과학 분야에서 일했으며, 1990년대 초반에는 Lisp 프로그래밍 언어에 대한 연구를 수행했습니다.\n",
      "\n",
      "1990년대 후반, 그레이엄은 Robert Morris와 함께 Viaweb이라는 회사를 설립했습니다. Viaweb은 온라인 상점을 위한 소프트웨어를 개발했으며, 1998년에 Yahoo!에 인수되었습니다. 그레이엄은 Yahoo!에서 몇 년 동안 일했으며, 2005년에 Y Combinator를 공동 설립했습니다.\n",
      "\n",
      "Y Combinator는 스타트업을 위한 투자 회사이자 인큐베이터입니다. 그레이엄은 Y Combinator를 통해 수많은 성공적인 스타트업을 지원했으며, 그 중에는 Airbnb, Dropbox, Stripe 등이 있습니다.\n",
      "\n",
      "그레이엄은 또한 에세이와 블로그 게시물을 통해 컴퓨터 과학, 스타트업, 문화에 대한 통찰력을 공유하는 것으로 유명합니다. 그의 글은 종종 논쟁적이지만, 항상 생각을 자극하는 것으로 알려져 있습니다.\n",
      "\n",
      "그레이엄은 컴퓨터 과학 분야에 대한 그의 공헌과 스타트업 생태계에 대한 그의 영향으로 널리 알려져 있습니다. 그는 또한 그의 글을 통해 컴퓨터 과학과 기술에 대한 대중의 이해를 높이는 데 기여했습니다.\n",
      "\n"
     ]
    }
   ],
   "source": [
    "from llama_index.llms.gemini import Gemini\n",
    "\n",
    "response = Gemini(model_name=\"models/gemini-1.5-flash-latest\").complete(\"Paul Graham은 누구인가요?\")\n",
    "print(response)"
   ]
  },
  {
   "cell_type": "code",
   "execution_count": 3,
   "metadata": {},
   "outputs": [
    {
     "name": "stdout",
     "output_type": "stream",
     "text": [
      "--2024-11-14 09:49:41--  https://raw.githubusercontent.com/run-llama/llama_index/main/docs/docs/examples/data/paul_graham/paul_graham_essay.txt\n",
      "raw.githubusercontent.com (raw.githubusercontent.com) 해석 중... 185.199.111.133, 185.199.110.133, 185.199.109.133, ...\n",
      "다음으로 연결 중: raw.githubusercontent.com (raw.githubusercontent.com)|185.199.111.133|:443... 연결했습니다.\n",
      "HTTP 요청을 보냈습니다. 응답 기다리는 중... 200 OK\n",
      "길이: 75042 (73K) [text/plain]\n",
      "저장 위치: `data/paul_graham_essay.txt'\n",
      "\n",
      "data/paul_graham_es 100%[===================>]  73.28K  --.-KB/s    /  0.05s   \n",
      "\n",
      "2024-11-14 09:49:41 (1.44 MB/s) - `data/paul_graham_essay.txt' 저장함 [75042/75042]\n",
      "\n"
     ]
    }
   ],
   "source": [
    "!mkdir -p data && wget https://raw.githubusercontent.com/run-llama/llama_index/main/docs/docs/examples/data/paul_graham/paul_graham_essay.txt -O data/paul_graham_essay.txt"
   ]
  },
  {
   "cell_type": "code",
   "execution_count": 4,
   "metadata": {},
   "outputs": [],
   "source": [
    "from llama_index.core import VectorStoreIndex, SimpleDirectoryReader, Settings\n",
    "from llama_index.embeddings.huggingface import HuggingFaceEmbedding\n",
    "from llama_index.llms.gemini import Gemini\n",
    "\n",
    "Settings.embed_model = HuggingFaceEmbedding(model_name=\"nlpai-lab/KoE5\")\n",
    "Settings.llm = Gemini(model_name=\"models/gemini-1.5-flash-latest\")\n",
    "\n",
    "documents = SimpleDirectoryReader(input_dir=\"data\").load_data()\n",
    "\n",
    "index = VectorStoreIndex.from_documents(documents)"
   ]
  },
  {
   "cell_type": "code",
   "execution_count": 5,
   "metadata": {},
   "outputs": [],
   "source": [
    "query_engine = index.as_query_engine()\n",
    "response = query_engine.query(\"Paul Graham은 누구인가요?\")"
   ]
  },
  {
   "cell_type": "code",
   "execution_count": 6,
   "metadata": {},
   "outputs": [
    {
     "name": "stdout",
     "output_type": "stream",
     "text": [
      "Paul Graham은 컴퓨터 과학자이자 작가입니다. \n",
      "\n"
     ]
    }
   ],
   "source": [
    "print(response)"
   ]
  },
  {
   "cell_type": "code",
   "execution_count": null,
   "metadata": {},
   "outputs": [],
   "source": []
  }
 ],
 "metadata": {
  "kernelspec": {
   "display_name": "llamaindex",
   "language": "python",
   "name": "python3"
  },
  "language_info": {
   "codemirror_mode": {
    "name": "ipython",
    "version": 3
   },
   "file_extension": ".py",
   "mimetype": "text/x-python",
   "name": "python",
   "nbconvert_exporter": "python",
   "pygments_lexer": "ipython3",
   "version": "3.11.10"
  }
 },
 "nbformat": 4,
 "nbformat_minor": 2
}
