{
 "cells": [
  {
   "cell_type": "code",
   "execution_count": 18,
   "metadata": {},
   "outputs": [
    {
     "name": "stderr",
     "output_type": "stream",
     "text": [
      "huggingface/tokenizers: The current process just got forked, after parallelism has already been used. Disabling parallelism to avoid deadlocks...\n",
      "To disable this warning, you can either:\n",
      "\t- Avoid using `tokenizers` before the fork if possible\n",
      "\t- Explicitly set the environment variable TOKENIZERS_PARALLELISM=(true | false)\n"
     ]
    },
    {
     "name": "stdout",
     "output_type": "stream",
     "text": [
      "Requirement already satisfied: llama-index in /opt/homebrew/anaconda3/envs/llamaindex/lib/python3.11/site-packages (0.11.22)\n",
      "Requirement already satisfied: llama-index-embeddings-huggingface in /opt/homebrew/anaconda3/envs/llamaindex/lib/python3.11/site-packages (0.3.1)\n",
      "Requirement already satisfied: llama-index-llms-gemini in /opt/homebrew/anaconda3/envs/llamaindex/lib/python3.11/site-packages (0.3.7)\n",
      "Requirement already satisfied: google-generativeai in /opt/homebrew/anaconda3/envs/llamaindex/lib/python3.11/site-packages (0.5.4)\n",
      "Requirement already satisfied: llama-index-agent-openai<0.4.0,>=0.3.4 in /opt/homebrew/anaconda3/envs/llamaindex/lib/python3.11/site-packages (from llama-index) (0.3.4)\n",
      "Requirement already satisfied: llama-index-cli<0.4.0,>=0.3.1 in /opt/homebrew/anaconda3/envs/llamaindex/lib/python3.11/site-packages (from llama-index) (0.3.1)\n",
      "Requirement already satisfied: llama-index-core<0.12.0,>=0.11.22 in /opt/homebrew/anaconda3/envs/llamaindex/lib/python3.11/site-packages (from llama-index) (0.11.23)\n",
      "Requirement already satisfied: llama-index-embeddings-openai<0.3.0,>=0.2.4 in /opt/homebrew/anaconda3/envs/llamaindex/lib/python3.11/site-packages (from llama-index) (0.2.5)\n",
      "Requirement already satisfied: llama-index-indices-managed-llama-cloud>=0.3.0 in /opt/homebrew/anaconda3/envs/llamaindex/lib/python3.11/site-packages (from llama-index) (0.4.0)\n",
      "Requirement already satisfied: llama-index-legacy<0.10.0,>=0.9.48 in /opt/homebrew/anaconda3/envs/llamaindex/lib/python3.11/site-packages (from llama-index) (0.9.48.post4)\n",
      "Requirement already satisfied: llama-index-llms-openai<0.3.0,>=0.2.10 in /opt/homebrew/anaconda3/envs/llamaindex/lib/python3.11/site-packages (from llama-index) (0.2.16)\n",
      "Requirement already satisfied: llama-index-multi-modal-llms-openai<0.3.0,>=0.2.0 in /opt/homebrew/anaconda3/envs/llamaindex/lib/python3.11/site-packages (from llama-index) (0.2.3)\n",
      "Requirement already satisfied: llama-index-program-openai<0.3.0,>=0.2.0 in /opt/homebrew/anaconda3/envs/llamaindex/lib/python3.11/site-packages (from llama-index) (0.2.0)\n",
      "Requirement already satisfied: llama-index-question-gen-openai<0.3.0,>=0.2.0 in /opt/homebrew/anaconda3/envs/llamaindex/lib/python3.11/site-packages (from llama-index) (0.2.0)\n",
      "Requirement already satisfied: llama-index-readers-file<0.3.0,>=0.2.0 in /opt/homebrew/anaconda3/envs/llamaindex/lib/python3.11/site-packages (from llama-index) (0.2.2)\n",
      "Requirement already satisfied: llama-index-readers-llama-parse>=0.3.0 in /opt/homebrew/anaconda3/envs/llamaindex/lib/python3.11/site-packages (from llama-index) (0.3.0)\n",
      "Requirement already satisfied: nltk>3.8.1 in /opt/homebrew/anaconda3/envs/llamaindex/lib/python3.11/site-packages (from llama-index) (3.9.1)\n",
      "Requirement already satisfied: huggingface-hub>=0.19.0 in /opt/homebrew/anaconda3/envs/llamaindex/lib/python3.11/site-packages (from huggingface-hub[inference]>=0.19.0->llama-index-embeddings-huggingface) (0.26.2)\n",
      "Requirement already satisfied: sentence-transformers>=2.6.1 in /opt/homebrew/anaconda3/envs/llamaindex/lib/python3.11/site-packages (from llama-index-embeddings-huggingface) (3.3.0)\n",
      "Requirement already satisfied: pillow<11.0.0,>=10.2.0 in /opt/homebrew/anaconda3/envs/llamaindex/lib/python3.11/site-packages (from llama-index-llms-gemini) (10.4.0)\n",
      "Requirement already satisfied: google-ai-generativelanguage==0.6.4 in /opt/homebrew/anaconda3/envs/llamaindex/lib/python3.11/site-packages (from google-generativeai) (0.6.4)\n",
      "Requirement already satisfied: google-api-core in /opt/homebrew/anaconda3/envs/llamaindex/lib/python3.11/site-packages (from google-generativeai) (2.23.0)\n",
      "Requirement already satisfied: google-api-python-client in /opt/homebrew/anaconda3/envs/llamaindex/lib/python3.11/site-packages (from google-generativeai) (2.151.0)\n",
      "Requirement already satisfied: google-auth>=2.15.0 in /opt/homebrew/anaconda3/envs/llamaindex/lib/python3.11/site-packages (from google-generativeai) (2.36.0)\n",
      "Requirement already satisfied: protobuf in /opt/homebrew/anaconda3/envs/llamaindex/lib/python3.11/site-packages (from google-generativeai) (4.25.5)\n",
      "Requirement already satisfied: pydantic in /opt/homebrew/anaconda3/envs/llamaindex/lib/python3.11/site-packages (from google-generativeai) (2.9.2)\n",
      "Requirement already satisfied: tqdm in /opt/homebrew/anaconda3/envs/llamaindex/lib/python3.11/site-packages (from google-generativeai) (4.67.0)\n",
      "Requirement already satisfied: typing-extensions in /opt/homebrew/anaconda3/envs/llamaindex/lib/python3.11/site-packages (from google-generativeai) (4.12.2)\n",
      "Requirement already satisfied: proto-plus<2.0.0dev,>=1.22.3 in /opt/homebrew/anaconda3/envs/llamaindex/lib/python3.11/site-packages (from google-ai-generativelanguage==0.6.4->google-generativeai) (1.25.0)\n",
      "Requirement already satisfied: googleapis-common-protos<2.0.dev0,>=1.56.2 in /opt/homebrew/anaconda3/envs/llamaindex/lib/python3.11/site-packages (from google-api-core->google-generativeai) (1.65.0)\n",
      "Requirement already satisfied: requests<3.0.0.dev0,>=2.18.0 in /opt/homebrew/anaconda3/envs/llamaindex/lib/python3.11/site-packages (from google-api-core->google-generativeai) (2.32.3)\n",
      "Requirement already satisfied: cachetools<6.0,>=2.0.0 in /opt/homebrew/anaconda3/envs/llamaindex/lib/python3.11/site-packages (from google-auth>=2.15.0->google-generativeai) (5.5.0)\n",
      "Requirement already satisfied: pyasn1-modules>=0.2.1 in /opt/homebrew/anaconda3/envs/llamaindex/lib/python3.11/site-packages (from google-auth>=2.15.0->google-generativeai) (0.4.1)\n",
      "Requirement already satisfied: rsa<5,>=3.1.4 in /opt/homebrew/anaconda3/envs/llamaindex/lib/python3.11/site-packages (from google-auth>=2.15.0->google-generativeai) (4.9)\n",
      "Requirement already satisfied: filelock in /opt/homebrew/anaconda3/envs/llamaindex/lib/python3.11/site-packages (from huggingface-hub>=0.19.0->huggingface-hub[inference]>=0.19.0->llama-index-embeddings-huggingface) (3.16.1)\n",
      "Requirement already satisfied: fsspec>=2023.5.0 in /opt/homebrew/anaconda3/envs/llamaindex/lib/python3.11/site-packages (from huggingface-hub>=0.19.0->huggingface-hub[inference]>=0.19.0->llama-index-embeddings-huggingface) (2024.10.0)\n",
      "Requirement already satisfied: packaging>=20.9 in /opt/homebrew/anaconda3/envs/llamaindex/lib/python3.11/site-packages (from huggingface-hub>=0.19.0->huggingface-hub[inference]>=0.19.0->llama-index-embeddings-huggingface) (24.1)\n",
      "Requirement already satisfied: pyyaml>=5.1 in /opt/homebrew/anaconda3/envs/llamaindex/lib/python3.11/site-packages (from huggingface-hub>=0.19.0->huggingface-hub[inference]>=0.19.0->llama-index-embeddings-huggingface) (6.0.2)\n",
      "Requirement already satisfied: aiohttp in /opt/homebrew/anaconda3/envs/llamaindex/lib/python3.11/site-packages (from huggingface-hub[inference]>=0.19.0->llama-index-embeddings-huggingface) (3.10.10)\n",
      "Requirement already satisfied: openai>=1.14.0 in /opt/homebrew/anaconda3/envs/llamaindex/lib/python3.11/site-packages (from llama-index-agent-openai<0.4.0,>=0.3.4->llama-index) (1.54.3)\n",
      "Requirement already satisfied: SQLAlchemy>=1.4.49 in /opt/homebrew/anaconda3/envs/llamaindex/lib/python3.11/site-packages (from SQLAlchemy[asyncio]>=1.4.49->llama-index-core<0.12.0,>=0.11.22->llama-index) (2.0.36)\n",
      "Requirement already satisfied: dataclasses-json in /opt/homebrew/anaconda3/envs/llamaindex/lib/python3.11/site-packages (from llama-index-core<0.12.0,>=0.11.22->llama-index) (0.6.7)\n",
      "Requirement already satisfied: deprecated>=1.2.9.3 in /opt/homebrew/anaconda3/envs/llamaindex/lib/python3.11/site-packages (from llama-index-core<0.12.0,>=0.11.22->llama-index) (1.2.14)\n",
      "Requirement already satisfied: dirtyjson<2.0.0,>=1.0.8 in /opt/homebrew/anaconda3/envs/llamaindex/lib/python3.11/site-packages (from llama-index-core<0.12.0,>=0.11.22->llama-index) (1.0.8)\n",
      "Requirement already satisfied: filetype<2.0.0,>=1.2.0 in /opt/homebrew/anaconda3/envs/llamaindex/lib/python3.11/site-packages (from llama-index-core<0.12.0,>=0.11.22->llama-index) (1.2.0)\n",
      "Requirement already satisfied: httpx in /opt/homebrew/anaconda3/envs/llamaindex/lib/python3.11/site-packages (from llama-index-core<0.12.0,>=0.11.22->llama-index) (0.27.2)\n",
      "Requirement already satisfied: nest-asyncio<2.0.0,>=1.5.8 in /opt/homebrew/anaconda3/envs/llamaindex/lib/python3.11/site-packages (from llama-index-core<0.12.0,>=0.11.22->llama-index) (1.6.0)\n",
      "Requirement already satisfied: networkx>=3.0 in /opt/homebrew/anaconda3/envs/llamaindex/lib/python3.11/site-packages (from llama-index-core<0.12.0,>=0.11.22->llama-index) (3.4.2)\n",
      "Requirement already satisfied: numpy<2.0.0 in /opt/homebrew/anaconda3/envs/llamaindex/lib/python3.11/site-packages (from llama-index-core<0.12.0,>=0.11.22->llama-index) (1.26.4)\n",
      "Requirement already satisfied: tenacity!=8.4.0,<9.0.0,>=8.2.0 in /opt/homebrew/anaconda3/envs/llamaindex/lib/python3.11/site-packages (from llama-index-core<0.12.0,>=0.11.22->llama-index) (8.5.0)\n",
      "Requirement already satisfied: tiktoken>=0.3.3 in /opt/homebrew/anaconda3/envs/llamaindex/lib/python3.11/site-packages (from llama-index-core<0.12.0,>=0.11.22->llama-index) (0.8.0)\n",
      "Requirement already satisfied: typing-inspect>=0.8.0 in /opt/homebrew/anaconda3/envs/llamaindex/lib/python3.11/site-packages (from llama-index-core<0.12.0,>=0.11.22->llama-index) (0.9.0)\n",
      "Requirement already satisfied: wrapt in /opt/homebrew/anaconda3/envs/llamaindex/lib/python3.11/site-packages (from llama-index-core<0.12.0,>=0.11.22->llama-index) (1.16.0)\n",
      "Requirement already satisfied: llama-cloud>=0.0.11 in /opt/homebrew/anaconda3/envs/llamaindex/lib/python3.11/site-packages (from llama-index-indices-managed-llama-cloud>=0.3.0->llama-index) (0.1.4)\n",
      "Requirement already satisfied: pandas in /opt/homebrew/anaconda3/envs/llamaindex/lib/python3.11/site-packages (from llama-index-legacy<0.10.0,>=0.9.48->llama-index) (2.2.3)\n",
      "Requirement already satisfied: beautifulsoup4<5.0.0,>=4.12.3 in /opt/homebrew/anaconda3/envs/llamaindex/lib/python3.11/site-packages (from llama-index-readers-file<0.3.0,>=0.2.0->llama-index) (4.12.3)\n",
      "Requirement already satisfied: pypdf<5.0.0,>=4.0.1 in /opt/homebrew/anaconda3/envs/llamaindex/lib/python3.11/site-packages (from llama-index-readers-file<0.3.0,>=0.2.0->llama-index) (4.3.1)\n",
      "Requirement already satisfied: striprtf<0.0.27,>=0.0.26 in /opt/homebrew/anaconda3/envs/llamaindex/lib/python3.11/site-packages (from llama-index-readers-file<0.3.0,>=0.2.0->llama-index) (0.0.26)\n",
      "Requirement already satisfied: llama-parse>=0.5.0 in /opt/homebrew/anaconda3/envs/llamaindex/lib/python3.11/site-packages (from llama-index-readers-llama-parse>=0.3.0->llama-index) (0.5.13)\n",
      "Requirement already satisfied: click in /opt/homebrew/anaconda3/envs/llamaindex/lib/python3.11/site-packages (from nltk>3.8.1->llama-index) (8.1.7)\n",
      "Requirement already satisfied: joblib in /opt/homebrew/anaconda3/envs/llamaindex/lib/python3.11/site-packages (from nltk>3.8.1->llama-index) (1.4.2)\n",
      "Requirement already satisfied: regex>=2021.8.3 in /opt/homebrew/anaconda3/envs/llamaindex/lib/python3.11/site-packages (from nltk>3.8.1->llama-index) (2024.11.6)\n",
      "Requirement already satisfied: annotated-types>=0.6.0 in /opt/homebrew/anaconda3/envs/llamaindex/lib/python3.11/site-packages (from pydantic->google-generativeai) (0.7.0)\n",
      "Requirement already satisfied: pydantic-core==2.23.4 in /opt/homebrew/anaconda3/envs/llamaindex/lib/python3.11/site-packages (from pydantic->google-generativeai) (2.23.4)\n",
      "Requirement already satisfied: transformers<5.0.0,>=4.41.0 in /opt/homebrew/anaconda3/envs/llamaindex/lib/python3.11/site-packages (from sentence-transformers>=2.6.1->llama-index-embeddings-huggingface) (4.46.2)\n",
      "Requirement already satisfied: torch>=1.11.0 in /opt/homebrew/anaconda3/envs/llamaindex/lib/python3.11/site-packages (from sentence-transformers>=2.6.1->llama-index-embeddings-huggingface) (2.5.1)\n",
      "Requirement already satisfied: scikit-learn in /opt/homebrew/anaconda3/envs/llamaindex/lib/python3.11/site-packages (from sentence-transformers>=2.6.1->llama-index-embeddings-huggingface) (1.5.2)\n",
      "Requirement already satisfied: scipy in /opt/homebrew/anaconda3/envs/llamaindex/lib/python3.11/site-packages (from sentence-transformers>=2.6.1->llama-index-embeddings-huggingface) (1.14.1)\n",
      "Requirement already satisfied: httplib2<1.dev0,>=0.19.0 in /opt/homebrew/anaconda3/envs/llamaindex/lib/python3.11/site-packages (from google-api-python-client->google-generativeai) (0.22.0)\n",
      "Requirement already satisfied: google-auth-httplib2<1.0.0,>=0.2.0 in /opt/homebrew/anaconda3/envs/llamaindex/lib/python3.11/site-packages (from google-api-python-client->google-generativeai) (0.2.0)\n",
      "Requirement already satisfied: uritemplate<5,>=3.0.1 in /opt/homebrew/anaconda3/envs/llamaindex/lib/python3.11/site-packages (from google-api-python-client->google-generativeai) (4.1.1)\n",
      "Requirement already satisfied: aiohappyeyeballs>=2.3.0 in /opt/homebrew/anaconda3/envs/llamaindex/lib/python3.11/site-packages (from aiohttp->huggingface-hub[inference]>=0.19.0->llama-index-embeddings-huggingface) (2.4.3)\n",
      "Requirement already satisfied: aiosignal>=1.1.2 in /opt/homebrew/anaconda3/envs/llamaindex/lib/python3.11/site-packages (from aiohttp->huggingface-hub[inference]>=0.19.0->llama-index-embeddings-huggingface) (1.3.1)\n",
      "Requirement already satisfied: attrs>=17.3.0 in /opt/homebrew/anaconda3/envs/llamaindex/lib/python3.11/site-packages (from aiohttp->huggingface-hub[inference]>=0.19.0->llama-index-embeddings-huggingface) (24.2.0)\n",
      "Requirement already satisfied: frozenlist>=1.1.1 in /opt/homebrew/anaconda3/envs/llamaindex/lib/python3.11/site-packages (from aiohttp->huggingface-hub[inference]>=0.19.0->llama-index-embeddings-huggingface) (1.5.0)\n",
      "Requirement already satisfied: multidict<7.0,>=4.5 in /opt/homebrew/anaconda3/envs/llamaindex/lib/python3.11/site-packages (from aiohttp->huggingface-hub[inference]>=0.19.0->llama-index-embeddings-huggingface) (6.1.0)\n",
      "Requirement already satisfied: yarl<2.0,>=1.12.0 in /opt/homebrew/anaconda3/envs/llamaindex/lib/python3.11/site-packages (from aiohttp->huggingface-hub[inference]>=0.19.0->llama-index-embeddings-huggingface) (1.17.1)\n",
      "Requirement already satisfied: soupsieve>1.2 in /opt/homebrew/anaconda3/envs/llamaindex/lib/python3.11/site-packages (from beautifulsoup4<5.0.0,>=4.12.3->llama-index-readers-file<0.3.0,>=0.2.0->llama-index) (2.6)\n",
      "Requirement already satisfied: grpcio<2.0dev,>=1.33.2 in /opt/homebrew/anaconda3/envs/llamaindex/lib/python3.11/site-packages (from google-api-core[grpc]!=2.0.*,!=2.1.*,!=2.10.*,!=2.2.*,!=2.3.*,!=2.4.*,!=2.5.*,!=2.6.*,!=2.7.*,!=2.8.*,!=2.9.*,<3.0.0dev,>=1.34.1->google-ai-generativelanguage==0.6.4->google-generativeai) (1.67.1)\n",
      "Requirement already satisfied: grpcio-status<2.0.dev0,>=1.33.2 in /opt/homebrew/anaconda3/envs/llamaindex/lib/python3.11/site-packages (from google-api-core[grpc]!=2.0.*,!=2.1.*,!=2.10.*,!=2.2.*,!=2.3.*,!=2.4.*,!=2.5.*,!=2.6.*,!=2.7.*,!=2.8.*,!=2.9.*,<3.0.0dev,>=1.34.1->google-ai-generativelanguage==0.6.4->google-generativeai) (1.62.3)\n",
      "Requirement already satisfied: pyparsing!=3.0.0,!=3.0.1,!=3.0.2,!=3.0.3,<4,>=2.4.2 in /opt/homebrew/anaconda3/envs/llamaindex/lib/python3.11/site-packages (from httplib2<1.dev0,>=0.19.0->google-api-python-client->google-generativeai) (3.2.0)\n",
      "Requirement already satisfied: anyio in /opt/homebrew/anaconda3/envs/llamaindex/lib/python3.11/site-packages (from httpx->llama-index-core<0.12.0,>=0.11.22->llama-index) (4.6.2.post1)\n",
      "Requirement already satisfied: certifi in /opt/homebrew/anaconda3/envs/llamaindex/lib/python3.11/site-packages (from httpx->llama-index-core<0.12.0,>=0.11.22->llama-index) (2024.8.30)\n",
      "Requirement already satisfied: httpcore==1.* in /opt/homebrew/anaconda3/envs/llamaindex/lib/python3.11/site-packages (from httpx->llama-index-core<0.12.0,>=0.11.22->llama-index) (1.0.6)\n",
      "Requirement already satisfied: idna in /opt/homebrew/anaconda3/envs/llamaindex/lib/python3.11/site-packages (from httpx->llama-index-core<0.12.0,>=0.11.22->llama-index) (3.10)\n",
      "Requirement already satisfied: sniffio in /opt/homebrew/anaconda3/envs/llamaindex/lib/python3.11/site-packages (from httpx->llama-index-core<0.12.0,>=0.11.22->llama-index) (1.3.1)\n",
      "Requirement already satisfied: h11<0.15,>=0.13 in /opt/homebrew/anaconda3/envs/llamaindex/lib/python3.11/site-packages (from httpcore==1.*->httpx->llama-index-core<0.12.0,>=0.11.22->llama-index) (0.14.0)\n",
      "Requirement already satisfied: distro<2,>=1.7.0 in /opt/homebrew/anaconda3/envs/llamaindex/lib/python3.11/site-packages (from openai>=1.14.0->llama-index-agent-openai<0.4.0,>=0.3.4->llama-index) (1.9.0)\n",
      "Requirement already satisfied: jiter<1,>=0.4.0 in /opt/homebrew/anaconda3/envs/llamaindex/lib/python3.11/site-packages (from openai>=1.14.0->llama-index-agent-openai<0.4.0,>=0.3.4->llama-index) (0.7.0)\n",
      "Requirement already satisfied: pyasn1<0.7.0,>=0.4.6 in /opt/homebrew/anaconda3/envs/llamaindex/lib/python3.11/site-packages (from pyasn1-modules>=0.2.1->google-auth>=2.15.0->google-generativeai) (0.6.1)\n",
      "Requirement already satisfied: charset-normalizer<4,>=2 in /opt/homebrew/anaconda3/envs/llamaindex/lib/python3.11/site-packages (from requests<3.0.0.dev0,>=2.18.0->google-api-core->google-generativeai) (3.4.0)\n",
      "Requirement already satisfied: urllib3<3,>=1.21.1 in /opt/homebrew/anaconda3/envs/llamaindex/lib/python3.11/site-packages (from requests<3.0.0.dev0,>=2.18.0->google-api-core->google-generativeai) (2.2.3)\n",
      "Requirement already satisfied: greenlet!=0.4.17 in /opt/homebrew/anaconda3/envs/llamaindex/lib/python3.11/site-packages (from SQLAlchemy[asyncio]>=1.4.49->llama-index-core<0.12.0,>=0.11.22->llama-index) (3.1.1)\n",
      "Requirement already satisfied: jinja2 in /opt/homebrew/anaconda3/envs/llamaindex/lib/python3.11/site-packages (from torch>=1.11.0->sentence-transformers>=2.6.1->llama-index-embeddings-huggingface) (3.1.4)\n",
      "Requirement already satisfied: sympy==1.13.1 in /opt/homebrew/anaconda3/envs/llamaindex/lib/python3.11/site-packages (from torch>=1.11.0->sentence-transformers>=2.6.1->llama-index-embeddings-huggingface) (1.13.1)\n",
      "Requirement already satisfied: mpmath<1.4,>=1.1.0 in /opt/homebrew/anaconda3/envs/llamaindex/lib/python3.11/site-packages (from sympy==1.13.1->torch>=1.11.0->sentence-transformers>=2.6.1->llama-index-embeddings-huggingface) (1.3.0)\n",
      "Requirement already satisfied: safetensors>=0.4.1 in /opt/homebrew/anaconda3/envs/llamaindex/lib/python3.11/site-packages (from transformers<5.0.0,>=4.41.0->sentence-transformers>=2.6.1->llama-index-embeddings-huggingface) (0.4.5)\n",
      "Requirement already satisfied: tokenizers<0.21,>=0.20 in /opt/homebrew/anaconda3/envs/llamaindex/lib/python3.11/site-packages (from transformers<5.0.0,>=4.41.0->sentence-transformers>=2.6.1->llama-index-embeddings-huggingface) (0.20.3)\n",
      "Requirement already satisfied: mypy-extensions>=0.3.0 in /opt/homebrew/anaconda3/envs/llamaindex/lib/python3.11/site-packages (from typing-inspect>=0.8.0->llama-index-core<0.12.0,>=0.11.22->llama-index) (1.0.0)\n",
      "Requirement already satisfied: marshmallow<4.0.0,>=3.18.0 in /opt/homebrew/anaconda3/envs/llamaindex/lib/python3.11/site-packages (from dataclasses-json->llama-index-core<0.12.0,>=0.11.22->llama-index) (3.23.1)\n",
      "Requirement already satisfied: python-dateutil>=2.8.2 in /opt/homebrew/anaconda3/envs/llamaindex/lib/python3.11/site-packages (from pandas->llama-index-legacy<0.10.0,>=0.9.48->llama-index) (2.9.0)\n",
      "Requirement already satisfied: pytz>=2020.1 in /opt/homebrew/anaconda3/envs/llamaindex/lib/python3.11/site-packages (from pandas->llama-index-legacy<0.10.0,>=0.9.48->llama-index) (2024.2)\n",
      "Requirement already satisfied: tzdata>=2022.7 in /opt/homebrew/anaconda3/envs/llamaindex/lib/python3.11/site-packages (from pandas->llama-index-legacy<0.10.0,>=0.9.48->llama-index) (2024.2)\n",
      "Requirement already satisfied: threadpoolctl>=3.1.0 in /opt/homebrew/anaconda3/envs/llamaindex/lib/python3.11/site-packages (from scikit-learn->sentence-transformers>=2.6.1->llama-index-embeddings-huggingface) (3.5.0)\n",
      "Requirement already satisfied: six>=1.5 in /opt/homebrew/anaconda3/envs/llamaindex/lib/python3.11/site-packages (from python-dateutil>=2.8.2->pandas->llama-index-legacy<0.10.0,>=0.9.48->llama-index) (1.16.0)\n",
      "Requirement already satisfied: propcache>=0.2.0 in /opt/homebrew/anaconda3/envs/llamaindex/lib/python3.11/site-packages (from yarl<2.0,>=1.12.0->aiohttp->huggingface-hub[inference]>=0.19.0->llama-index-embeddings-huggingface) (0.2.0)\n",
      "Requirement already satisfied: MarkupSafe>=2.0 in /opt/homebrew/anaconda3/envs/llamaindex/lib/python3.11/site-packages (from jinja2->torch>=1.11.0->sentence-transformers>=2.6.1->llama-index-embeddings-huggingface) (3.0.2)\n"
     ]
    }
   ],
   "source": [
    "!pip install llama-index llama-index-embeddings-huggingface llama-index-llms-gemini llama-index google-generativeai\n"
   ]
  },
  {
   "cell_type": "code",
   "execution_count": 19,
   "metadata": {},
   "outputs": [],
   "source": [
    "import os\n",
    "\n",
    "google_api_key = os.getenv(\"GOOGLE_API_KEY\")"
   ]
  },
  {
   "cell_type": "code",
   "execution_count": 6,
   "metadata": {},
   "outputs": [
    {
     "name": "stdout",
     "output_type": "stream",
     "text": [
      "--2024-11-12 13:47:09--  https://raw.githubusercontent.com/run-llama/llama_index/main/docs/docs/examples/data/paul_graham/paul_graham_essay.txt\n",
      "raw.githubusercontent.com (raw.githubusercontent.com) 해석 중... 185.199.109.133, 185.199.110.133, 185.199.111.133, ...\n",
      "다음으로 연결 중: raw.githubusercontent.com (raw.githubusercontent.com)|185.199.109.133|:443... 연결했습니다.\n",
      "HTTP 요청을 보냈습니다. 응답 기다리는 중... 200 OK\n",
      "길이: 75042 (73K) [text/plain]\n",
      "저장 위치: `data/paul_graham_essay.txt'\n",
      "\n",
      "data/paul_graham_es 100%[===================>]  73.28K   415KB/s    /  0.2s    \n",
      "\n",
      "2024-11-12 13:47:10 (415 KB/s) - `data/paul_graham_essay.txt' 저장함 [75042/75042]\n",
      "\n"
     ]
    }
   ],
   "source": [
    "!mkdir -p data && wget https://raw.githubusercontent.com/run-llama/llama_index/main/docs/docs/examples/data/paul_graham/paul_graham_essay.txt -O data/paul_graham_essay.txt"
   ]
  },
  {
   "cell_type": "code",
   "execution_count": 22,
   "metadata": {},
   "outputs": [],
   "source": [
    "from llama_index.core import VectorStoreIndex, SimpleDirectoryReader, Settings\n",
    "from llama_index.embeddings.huggingface import HuggingFaceEmbedding\n",
    "from llama_index.llms.gemini import Gemini\n",
    "\n",
    "Settings.embed_model = HuggingFaceEmbedding(model_name=\"nlpai-lab/KoE5\")\n",
    "Settings.llm = Gemini(model_name=\"models/gemini-1.5-flash-latest\")"
   ]
  },
  {
   "cell_type": "code",
   "execution_count": 25,
   "metadata": {},
   "outputs": [
    {
     "name": "stdout",
     "output_type": "stream",
     "text": [
      "저자는 어렸을 때 글쓰기와 프로그래밍을 했습니다. 특히 단편 소설을 썼지만, 그 당시에는 별로 좋지 않았다고 합니다. 또한 학교에서 사용하는 IBM 1401 컴퓨터를 이용하여 프로그래밍을 시작했습니다. 하지만 당시에는 컴퓨터 사용이 제한적이었고, 저자는 컴퓨터를 제대로 활용하지 못했습니다. \n",
      "\n"
     ]
    }
   ],
   "source": [
    "query_engine = index.as_query_engine()\n",
    "response = query_engine.query(\"저자는 어렸을때 어떤일을 했나요? 자세히 알려주세요.\")\n",
    "print(response)"
   ]
  },
  {
   "cell_type": "code",
   "execution_count": 26,
   "metadata": {},
   "outputs": [],
   "source": [
    "import logging\n",
    "import sys\n",
    "\n",
    "logging.basicConfig(stream=sys.stdout, level=logging.DEBUG)\n",
    "logging.getLogger().addHandler(logging.StreamHandler(stream=sys.stdout))"
   ]
  },
  {
   "cell_type": "code",
   "execution_count": 27,
   "metadata": {},
   "outputs": [
    {
     "name": "stderr",
     "output_type": "stream",
     "text": [
      "Batches: 100%|██████████| 1/1 [00:00<00:00,  1.82it/s]"
     ]
    },
    {
     "name": "stdout",
     "output_type": "stream",
     "text": [
      "DEBUG:llama_index.core.indices.utils:> Top 2 nodes:\n",
      "> [Node a912fdd4-11ea-4c18-bb19-8f050568b93a] [Similarity score:             0.267923] What I Worked On\n",
      "\n",
      "February 2021\n",
      "\n",
      "Before college the two main things I worked on, outside of schoo...\n",
      "> [Node b76f0983-0f46-4004-b2f1-27502286aa91] [Similarity score:             0.246462] One of the most conspicuous patterns I've noticed in my life is how well it has worked, for me at...\n",
      "> Top 2 nodes:\n",
      "> [Node a912fdd4-11ea-4c18-bb19-8f050568b93a] [Similarity score:             0.267923] What I Worked On\n",
      "\n",
      "February 2021\n",
      "\n",
      "Before college the two main things I worked on, outside of schoo...\n",
      "> [Node b76f0983-0f46-4004-b2f1-27502286aa91] [Similarity score:             0.246462] One of the most conspicuous patterns I've noticed in my life is how well it has worked, for me at...\n"
     ]
    },
    {
     "name": "stderr",
     "output_type": "stream",
     "text": [
      "\n"
     ]
    },
    {
     "name": "stdout",
     "output_type": "stream",
     "text": [
      "저자는 어렸을 때 글쓰기와 프로그래밍을 했습니다. 특히 단편 소설을 썼지만, 그 당시에는 별로 좋지 않았다고 합니다. 또한 학교에서 사용하는 IBM 1401 컴퓨터를 이용하여 프로그래밍을 시작했습니다. 하지만 당시에는 컴퓨터 사용이 제한적이었고, 저자는 컴퓨터를 제대로 활용하지 못했습니다. \n",
      "\n"
     ]
    }
   ],
   "source": [
    "query_engine = index.as_query_engine()\n",
    "response = query_engine.query(\"저자는 어렸을때 어떤일을 했나요? 자세히 알려주세요.\")\n",
    "print(response)"
   ]
  },
  {
   "cell_type": "code",
   "execution_count": 28,
   "metadata": {},
   "outputs": [
    {
     "name": "stdout",
     "output_type": "stream",
     "text": [
      "DEBUG:fsspec.local:open file: /Users/hyeon/Documents/llamaindex-kr/home/storage/docstore.json\n",
      "open file: /Users/hyeon/Documents/llamaindex-kr/home/storage/docstore.json\n",
      "DEBUG:fsspec.local:open file: /Users/hyeon/Documents/llamaindex-kr/home/storage/index_store.json\n",
      "open file: /Users/hyeon/Documents/llamaindex-kr/home/storage/index_store.json\n",
      "DEBUG:fsspec.local:open file: /Users/hyeon/Documents/llamaindex-kr/home/storage/graph_store.json\n",
      "open file: /Users/hyeon/Documents/llamaindex-kr/home/storage/graph_store.json\n",
      "DEBUG:fsspec.local:open file: /Users/hyeon/Documents/llamaindex-kr/home/storage/default__vector_store.json\n",
      "open file: /Users/hyeon/Documents/llamaindex-kr/home/storage/default__vector_store.json\n",
      "DEBUG:fsspec.local:open file: /Users/hyeon/Documents/llamaindex-kr/home/storage/image__vector_store.json\n",
      "open file: /Users/hyeon/Documents/llamaindex-kr/home/storage/image__vector_store.json\n"
     ]
    }
   ],
   "source": [
    "index.storage_context.persist()"
   ]
  },
  {
   "cell_type": "code",
   "execution_count": 31,
   "metadata": {},
   "outputs": [
    {
     "name": "stdout",
     "output_type": "stream",
     "text": [
      "DEBUG:llama_index.core.storage.kvstore.simple_kvstore:Loading llama_index.core.storage.kvstore.simple_kvstore from ./storage/docstore.json.\n",
      "Loading llama_index.core.storage.kvstore.simple_kvstore from ./storage/docstore.json.\n",
      "DEBUG:fsspec.local:open file: /Users/hyeon/Documents/llamaindex-kr/home/storage/docstore.json\n",
      "open file: /Users/hyeon/Documents/llamaindex-kr/home/storage/docstore.json\n",
      "DEBUG:llama_index.core.storage.kvstore.simple_kvstore:Loading llama_index.core.storage.kvstore.simple_kvstore from ./storage/index_store.json.\n",
      "Loading llama_index.core.storage.kvstore.simple_kvstore from ./storage/index_store.json.\n",
      "DEBUG:fsspec.local:open file: /Users/hyeon/Documents/llamaindex-kr/home/storage/index_store.json\n",
      "open file: /Users/hyeon/Documents/llamaindex-kr/home/storage/index_store.json\n",
      "DEBUG:llama_index.core.graph_stores.simple:Loading llama_index.core.graph_stores.simple from ./storage/graph_store.json.\n",
      "Loading llama_index.core.graph_stores.simple from ./storage/graph_store.json.\n",
      "DEBUG:fsspec.local:open file: /Users/hyeon/Documents/llamaindex-kr/home/storage/graph_store.json\n",
      "open file: /Users/hyeon/Documents/llamaindex-kr/home/storage/graph_store.json\n",
      "DEBUG:fsspec.local:open file: /Users/hyeon/Documents/llamaindex-kr/home/storage/property_graph_store.json\n",
      "open file: /Users/hyeon/Documents/llamaindex-kr/home/storage/property_graph_store.json\n",
      "DEBUG:llama_index.core.vector_stores.simple:Loading llama_index.core.vector_stores.simple from ./storage/image__vector_store.json.\n",
      "Loading llama_index.core.vector_stores.simple from ./storage/image__vector_store.json.\n",
      "DEBUG:fsspec.local:open file: /Users/hyeon/Documents/llamaindex-kr/home/storage/image__vector_store.json\n",
      "open file: /Users/hyeon/Documents/llamaindex-kr/home/storage/image__vector_store.json\n",
      "DEBUG:llama_index.core.vector_stores.simple:Loading llama_index.core.vector_stores.simple from ./storage/default__vector_store.json.\n",
      "Loading llama_index.core.vector_stores.simple from ./storage/default__vector_store.json.\n",
      "DEBUG:fsspec.local:open file: /Users/hyeon/Documents/llamaindex-kr/home/storage/default__vector_store.json\n",
      "open file: /Users/hyeon/Documents/llamaindex-kr/home/storage/default__vector_store.json\n",
      "INFO:llama_index.core.indices.loading:Loading all indices.\n",
      "Loading all indices.\n"
     ]
    },
    {
     "name": "stderr",
     "output_type": "stream",
     "text": [
      "Batches: 100%|██████████| 1/1 [00:00<00:00, 14.61it/s]"
     ]
    },
    {
     "name": "stdout",
     "output_type": "stream",
     "text": [
      "DEBUG:llama_index.core.indices.utils:> Top 2 nodes:\n",
      "> [Node a912fdd4-11ea-4c18-bb19-8f050568b93a] [Similarity score:             0.267923] What I Worked On\n",
      "\n",
      "February 2021\n",
      "\n",
      "Before college the two main things I worked on, outside of schoo...\n",
      "> [Node b76f0983-0f46-4004-b2f1-27502286aa91] [Similarity score:             0.246462] One of the most conspicuous patterns I've noticed in my life is how well it has worked, for me at...\n",
      "> Top 2 nodes:\n",
      "> [Node a912fdd4-11ea-4c18-bb19-8f050568b93a] [Similarity score:             0.267923] What I Worked On\n",
      "\n",
      "February 2021\n",
      "\n",
      "Before college the two main things I worked on, outside of schoo...\n",
      "> [Node b76f0983-0f46-4004-b2f1-27502286aa91] [Similarity score:             0.246462] One of the most conspicuous patterns I've noticed in my life is how well it has worked, for me at...\n"
     ]
    },
    {
     "name": "stderr",
     "output_type": "stream",
     "text": [
      "\n"
     ]
    },
    {
     "name": "stdout",
     "output_type": "stream",
     "text": [
      "저자는 어렸을 때 글쓰기와 프로그래밍을 했습니다. 특히 단편 소설을 썼지만, 그 당시에는 별로 좋지 않았다고 합니다. 또한 학교에서 사용하는 IBM 1401 컴퓨터를 이용하여 프로그래밍을 시작했습니다. 하지만 당시에는 컴퓨터 사용이 제한적이었고, 저자는 컴퓨터를 제대로 활용하지 못했습니다. \n",
      "\n"
     ]
    }
   ],
   "source": [
    "from llama_index.core import StorageContext, load_index_from_storage\n",
    "\n",
    "PERSIST_DIR = \"./storage\"\n",
    "storage_context = StorageContext.from_defaults(persist_dir=PERSIST_DIR)\n",
    "index = load_index_from_storage(storage_context)\n",
    "\n",
    "query_engine = index.as_query_engine()\n",
    "response = query_engine.query(\"저자는 어렸을때 어떤일을 했나요? 자세히 알려주세요.\")\n",
    "print(response)"
   ]
  },
  {
   "cell_type": "code",
   "execution_count": null,
   "metadata": {},
   "outputs": [],
   "source": []
  }
 ],
 "metadata": {
  "kernelspec": {
   "display_name": "llamaindex",
   "language": "python",
   "name": "python3"
  },
  "language_info": {
   "codemirror_mode": {
    "name": "ipython",
    "version": 3
   },
   "file_extension": ".py",
   "mimetype": "text/x-python",
   "name": "python",
   "nbconvert_exporter": "python",
   "pygments_lexer": "ipython3",
   "version": "3.11.10"
  }
 },
 "nbformat": 4,
 "nbformat_minor": 2
}
